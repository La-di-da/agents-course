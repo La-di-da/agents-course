{
 "cells": [
  {
   "cell_type": "markdown",
   "metadata": {},
   "source": [
    "## Welcome to the Second Lab - Week 1, Day 3\n",
    "\n",
    "Today we will work with lots of models! This is a way to get comfortable with APIs."
   ]
  },
  {
   "cell_type": "markdown",
   "metadata": {},
   "source": [
    "<table style=\"margin: 0; text-align: left; width:100%\">\n",
    "    <tr>\n",
    "        <td style=\"width: 150px; height: 150px; vertical-align: middle;\">\n",
    "            <img src=\"../assets/stop.png\" width=\"150\" height=\"150\" style=\"display: block;\" />\n",
    "        </td>\n",
    "        <td>\n",
    "            <h2 style=\"color:#ff7800;\">Important point - please read</h2>\n",
    "            <span style=\"color:#ff7800;\">The way I collaborate with you may be different to other courses you've taken. I prefer not to type code while you watch. Rather, I execute Jupyter Labs, like this, and give you an intuition for what's going on. My suggestion is that you carefully execute this yourself, <b>after</b> watching the lecture. Add print statements to understand what's going on, and then come up with your own variations.<br/><br/>If you have time, I'd love it if you submit a PR for changes in the community_contributions folder - instructions in the resources. Also, if you have a Github account, use this to showcase your variations. Not only is this essential practice, but it demonstrates your skills to others, including perhaps future clients or employers...\n",
    "            </span>\n",
    "        </td>\n",
    "    </tr>\n",
    "</table>"
   ]
  },
  {
   "cell_type": "code",
   "execution_count": 1,
   "metadata": {},
   "outputs": [],
   "source": [
    "# Start with imports - ask ChatGPT to explain any package that you don't know\n",
    "\n",
    "import os\n",
    "import json\n",
    "from dotenv import load_dotenv\n",
    "from openai import OpenAI\n",
    "OLLAMA = \"llama3.2\"\n",
    "from anthropic import Anthropic\n",
    "from IPython.display import Markdown, display"
   ]
  },
  {
   "cell_type": "code",
   "execution_count": 2,
   "metadata": {},
   "outputs": [
    {
     "data": {
      "text/plain": [
       "True"
      ]
     },
     "execution_count": 2,
     "metadata": {},
     "output_type": "execute_result"
    }
   ],
   "source": [
    "# Always remember to do this!\n",
    "load_dotenv(override=True)"
   ]
  },
  {
   "cell_type": "code",
   "execution_count": 3,
   "metadata": {},
   "outputs": [
    {
     "name": "stdout",
     "output_type": "stream",
     "text": [
      "OpenAI API Key not set\n",
      "Anthropic API Key not set (and this is optional)\n",
      "Google API Key exists and begins AI\n",
      "DeepSeek API Key not set (and this is optional)\n",
      "Groq API Key not set (and this is optional)\n"
     ]
    }
   ],
   "source": [
    "# Print the key prefixes to help with any debugging\n",
    "\n",
    "openai_api_key = os.getenv('OPENAI_API_KEY')\n",
    "anthropic_api_key = os.getenv('ANTHROPIC_API_KEY')\n",
    "google_api_key = os.getenv('GOOGLE_API_KEY')\n",
    "deepseek_api_key = os.getenv('DEEPSEEK_API_KEY')\n",
    "groq_api_key = os.getenv('GROQ_API_KEY')\n",
    "\n",
    "if openai_api_key:\n",
    "    print(f\"OpenAI API Key exists and begins {openai_api_key[:8]}\")\n",
    "else:\n",
    "    print(\"OpenAI API Key not set\")\n",
    "    \n",
    "if anthropic_api_key:\n",
    "    print(f\"Anthropic API Key exists and begins {anthropic_api_key[:7]}\")\n",
    "else:\n",
    "    print(\"Anthropic API Key not set (and this is optional)\")\n",
    "\n",
    "if google_api_key:\n",
    "    print(f\"Google API Key exists and begins {google_api_key[:2]}\")\n",
    "else:\n",
    "    print(\"Google API Key not set (and this is optional)\")\n",
    "\n",
    "if deepseek_api_key:\n",
    "    print(f\"DeepSeek API Key exists and begins {deepseek_api_key[:3]}\")\n",
    "else:\n",
    "    print(\"DeepSeek API Key not set (and this is optional)\")\n",
    "\n",
    "if groq_api_key:\n",
    "    print(f\"Groq API Key exists and begins {groq_api_key[:4]}\")\n",
    "else:\n",
    "    print(\"Groq API Key not set (and this is optional)\")"
   ]
  },
  {
   "cell_type": "code",
   "execution_count": 4,
   "metadata": {},
   "outputs": [],
   "source": [
    "request = \"Please come up with a challenging, nuanced question that I can ask a number of LLMs to evaluate their intelligence. \"\n",
    "request += \"Answer only with the question, no explanation.\"\n",
    "messages = [{\"role\": \"user\", \"content\": request}]"
   ]
  },
  {
   "cell_type": "code",
   "execution_count": 5,
   "metadata": {},
   "outputs": [
    {
     "data": {
      "text/plain": [
       "[{'role': 'user',\n",
       "  'content': 'Please come up with a challenging, nuanced question that I can ask a number of LLMs to evaluate their intelligence. Answer only with the question, no explanation.'}]"
      ]
     },
     "execution_count": 5,
     "metadata": {},
     "output_type": "execute_result"
    }
   ],
   "source": [
    "messages"
   ]
  },
  {
   "cell_type": "code",
   "execution_count": 6,
   "metadata": {},
   "outputs": [
    {
     "name": "stdout",
     "output_type": "stream",
     "text": [
      "Here's a challenging, nuanced question:\n",
      "\n",
      "\"What is the fundamental difference between the concept of 'justice' as understood in an ancient Greco-Roman context and its modern iteration in liberal democracies, and how does this shift reflect broader cultural and philosophical changes in our understanding of human flourishing, equality, and the relationship between individuals and the state?\"\n"
     ]
    }
   ],
   "source": [
    "ollama = OpenAI(base_url=\"http://localhost:11434/v1\", api_key=\"ollama\")\n",
    "response = ollama.chat.completions.create(\n",
    "    model=OLLAMA,\n",
    "    messages=messages,\n",
    ")\n",
    "question = response.choices[0].message.content\n",
    "print(question)\n"
   ]
  },
  {
   "cell_type": "code",
   "execution_count": 7,
   "metadata": {},
   "outputs": [],
   "source": [
    "competitors = []\n",
    "answers = []\n",
    "messages = [{\"role\": \"user\", \"content\": question}]"
   ]
  },
  {
   "cell_type": "code",
   "execution_count": 8,
   "metadata": {},
   "outputs": [
    {
     "data": {
      "text/markdown": [
       "The concept of justice has indeed undergone significant transformations across different historical and cultural contexts. In ancient Greco-Roman societies, justice was closely tied to the idea of \"dikes,\" or duty, which emphasized personal responsibility and social hierarchy. Here's a breakdown of the differences between the ancient and modern iterations of justice:\n",
       "\n",
       "**Ancient Greco-Roman Context (5th century BCE - 5th century CE)**\n",
       "\n",
       "In this context, justice referred to the concept of balance and proportionality between individuals, as well as between the individual and society. The Greek philosopher Aristotle's Nicomachean Ethics provides a valuable insight into the understanding of justice during this period. According to Aristotle, justice is achieved when each person fulfills their specific role in the social hierarchy.\n",
       "\n",
       "The Roman notion of jus (law) was primarily focused on maintaining order, discipline, and authority within the state. This understanding of justice prioritized the greater good over individual rights and freedoms. For example, Cicero's ideas on governance and law emphasize the importance of submitting to moral authorities to maintain social harmony.\n",
       "\n",
       "**Modern Liberal Democratic Context**\n",
       "\n",
       "In liberal democracies, the concept of justice has evolved significantly, with a strong emphasis on human dignity, equality, and individual freedom. The modern understanding of justice is deeply influenced by Enlightenment values such as reason, tolerance, and human rights.\n",
       "\n",
       "John Rawls' A Theory of Justice (1971) is a seminal work that provides a powerful philosophical framework for modern justice. According to Rawls, the fundamental principle of justice is \"the two principles\" :\n",
       "\n",
       "1. **Each person has equal rights** as a rational being, including free exercise of their capacity for reason and intellect.\n",
       "2. **Difference in social standings** should be based on benefits received from the basic structure (society).\n",
       "\n",
       "These principles emphasize distributive justice, where resources are allocated to ensure the greatest benefit available to each individual, regardless of social status.\n",
       "\n",
       "**Shifts Reflecting Broader Cultural and Philosophical Changes**\n",
       "\n",
       "Several factors have contributed to this transformation in our understanding of justice:\n",
       "\n",
       "1. **From Hierarchical to Egalitarian Societies**: As societies moved from aristocratic models to more egalitarian structures, the need shifted from emphasizing personal roles (ancient Greco-Roman context) to highlighting individual equality and rights (modern liberal democracies).\n",
       "2. **Rise of Human Rights and International Law**: Human rights documents like the Universal Declaration of Human Rights have expanded our understanding of what constitutes justice beyond state boundaries and recognized universal rights and dignity.\n",
       "3. **Globalization, Cosmopolitanism, and Interconnectedness**: The increasing interconnectedness of nations has led to discussions around global justice and shared human values that supersede national frameworks.\n",
       "\n",
       "**Key Takeaways**\n",
       "\n",
       "1. Justice in ancient Greco-Roman contexts was heavily influenced by the concept of social hierarchy and individual roles, whereas modern interpretations prioritize broader equality and universal rights.\n",
       "2. Philosophical shifts towards humanism, tolerance, and the principles of human dignity have led to reevaluations of justice beyond exclusive state interests.\n",
       "3. As we move forward with increasingly diverse populations living under interconnected frameworks, concepts such as global justice, interdependence, and respect for the common good can no longer remain isolated considerations; they integrate within comprehensive schemes guiding policies across individual states and nations at large.\n",
       "\n",
       "Overall, our understanding of justice has evolved from a context-dependent, hierarchical approach to emphasizing individual rights, equal social standing, and shared human dignity on a universal basis."
      ],
      "text/plain": [
       "<IPython.core.display.Markdown object>"
      ]
     },
     "metadata": {},
     "output_type": "display_data"
    }
   ],
   "source": [
    "# The API we know well\n",
    "\n",
    "model_name = OLLAMA\n",
    "\n",
    "response = ollama.chat.completions.create(model=model_name, messages=messages)\n",
    "answer = response.choices[0].message.content\n",
    "\n",
    "display(Markdown(answer))\n",
    "competitors.append(model_name)\n",
    "answers.append(answer)"
   ]
  },
  {
   "cell_type": "code",
   "execution_count": 9,
   "metadata": {},
   "outputs": [],
   "source": [
    "# Anthropic has a slightly different API, and Max Tokens is required\n",
    "\n",
    "# model_name = \"claude-3-7-sonnet-latest\"\n",
    "\n",
    "# claude = Anthropic()\n",
    "# response = claude.messages.create(model=model_name, messages=messages, max_tokens=1000)\n",
    "# answer = response.content[0].text\n",
    "\n",
    "# display(Markdown(answer))\n",
    "# competitors.append(model_name)\n",
    "# answers.append(answer)"
   ]
  },
  {
   "cell_type": "code",
   "execution_count": 10,
   "metadata": {},
   "outputs": [
    {
     "data": {
      "text/markdown": [
       "This is indeed a challenging and nuanced question, as it requires delving into foundational philosophical principles, historical context, and the evolution of societal values.\n",
       "\n",
       "The fundamental difference between the concept of 'justice' in an ancient Greco-Roman context and its modern iteration in liberal democracies lies in its **primary focus and underlying assumptions about human nature, societal structure, and the source of moral authority.**\n",
       "\n",
       "### Fundamental Difference: From Hierarchical Harmony to Egalitarian Rights\n",
       "\n",
       "1.  **Ancient Greco-Roman Context: Justice as Order, Virtue, and Proper Function within a Hierarchy**\n",
       "    *   **Primary Focus:** Justice was predominantly understood as maintaining a **proper order or balance** within the *polis* (Greek city-state) or *res publica* (Roman republic), where each individual or group fulfilled their **assigned function** according to their nature or station. It was often intertwined with **virtue (aretē)** and the pursuit of the **common good** as defined by a specific, often hierarchical, social structure.\n",
       "    *   **Key Tenets:**\n",
       "        *   **Plato (e.g., *Republic*):** Justice is achieved when each part of the soul (reason, spirit, appetite) and each class in the ideal state (guardians, auxiliaries, producers) performs its proper function without interfering with others. It's a **state of internal harmony and external societal balance**, aimed at the overall good of the *polis*. Hierarchy is inherent and just, based on natural aptitude.\n",
       "        *   **Aristotle (e.g., *Nicomachean Ethics*, *Politics*):** Justice is about **proportionality and treating equals equally and unequals unequally** in proportion to their relevant differences (e.g., merit, need, status). He distinguished between distributive justice (fair allocation of resources/honors based on merit) and corrective justice (redressing wrongs). Justice was linked to *eudaimonia* (human flourishing), which for citizens involved participation in the political life of the city. Slavery, for Aristotle, was \"natural\" for those born to it.\n",
       "        *   **Roman Law & Philosophy (e.g., Cicero, Stoicism):** While highly sophisticated in its legal mechanisms (due process, property rights for citizens), Roman justice was still rooted in a deeply stratified society. Natural Law, influenced by Stoicism, introduced the idea of a universal moral order accessible by reason, hinting at a common humanity. However, practically, Roman justice was applied differently based on status (citizen vs. non-citizen, free vs. slave), and focused on maintaining public order, property rights, and the stability of the *imperium*.\n",
       "    *   **Scope of Equality:** Extremely limited. Justice applied primarily to (male) citizens, and even among them, differential treatment based on social standing or merit was often considered just. Slavery, gender inequality, and class distinctions were often viewed as natural or necessary components of a just social order.\n",
       "\n",
       "2.  **Modern Liberal Democracies: Justice as Rights, Fairness, and Universal Equality**\n",
       "    *   **Primary Focus:** Justice is primarily understood as ensuring **individual rights, fundamental fairness, and equal treatment** for *all* individuals, irrespective of their social status, background, or inherent \"worth.\" It is about establishing rules and institutions that protect individual autonomy and ensure equitable access to opportunities and protections under the law.\n",
       "    *   **Key Tenets:**\n",
       "        *   **Individual Rights:** Justice is centered on the protection of inherent, often inalienable, rights (life, liberty, property, freedom of speech, due process) that precede the state. The state's legitimacy often derives from its ability to secure these rights.\n",
       "        *   **Universal Equality:** All human beings are considered fundamentally equal in moral worth and before the law. This doesn't necessarily mean equality of outcome, but rather equality of opportunity, equal protection, and equal consideration.\n",
       "        *   **Rule of Law:** Laws are applied impartially and predictably to everyone, and even the state itself is subject to the law.\n",
       "        *   **Fair Procedures:** Emphasis on due process, transparent legal systems, and fair trials to ensure just outcomes.\n",
       "        *   **Social Justice:** A more recent development within modern justice, which seeks to address systemic inequalities and ensure that all individuals have access to basic needs, opportunities, and a dignified life, often through state intervention.\n",
       "    *   **Scope of Equality:** Theoretically universal. The aim is for justice to apply equally to all persons, transcending traditional categories of class, gender, race, or religion.\n",
       "\n",
       "### How this Shift Reflects Broader Cultural and Philosophical Changes:\n",
       "\n",
       "This profound shift in the understanding of justice reflects fundamental changes in Western thought:\n",
       "\n",
       "1.  **Understanding of Human Flourishing (Eudaimonia vs. Self-Actualization):**\n",
       "    *   **Ancient:** Human flourishing (*eudaimonia*) was often conceived as living a virtuous life in accordance with one's rational nature, fulfilling one's civic duties, and contributing to the common good of the *polis*. For many, this was tied to a specific communal identity and function. The state had a strong moral and formative role, guiding citizens towards virtue.\n",
       "    *   **Modern:** Human flourishing is largely understood as individual self-actualization, the pursuit of one's own conception of \"the good life,\" and the realization of one's potential, often defined by personal choice and autonomy. The state's role shifts from moral tutor to rights-protector and facilitator, aiming to create a framework within which diverse individuals can pursue their own forms of flourishing, rather than dictating a singular virtuous path.\n",
       "\n",
       "2.  **Understanding of Equality:**\n",
       "    *   **Ancient:** Equality was **proportional and stratified**. It was considered just to treat unequals unequally. A slave was not equal to a citizen; a woman was not equal to a man; a commoner was not equal to an aristocrat. Justice maintained these distinctions.\n",
       "    *   **Modern:** Equality is **universal and fundamental**. Influenced by Enlightenment ideals, Christian theology (all souls equal before God), and later human rights movements, the idea emerged that all humans possess inherent moral worth, independent of their social status, gender, race, or abilities. This shift demanded that justice apply equally to all, challenging inherent hierarchies as inherently unjust. This led to movements for abolition, women's suffrage, civil rights, and LGBTQ+ rights, all premised on an expanding understanding of who counts as \"equal.\"\n",
       "\n",
       "3.  **Relationship between Individuals and the State:**\n",
       "    *   **Ancient:** The individual was largely **subsumed by the community (polis/res publica)**. One's identity, purpose, and even moral standing were often derived from one's role and participation within the collective. The state was seen as the primary vehicle for achieving the good life, and individual freedom was often understood as the freedom to participate in the political life of the community. Duty to the state was paramount.\n",
       "    *   **Modern:** The **individual is prioritized and seen as possessing inherent rights that precede the state**. The state's legitimacy derives from the consent of the governed and its primary purpose is to protect individual liberties and facilitate their well-being. The relationship is often conceived as a social contract, where the individual grants the state power in exchange for the protection of their rights and the maintenance of order. The state is expected to be largely neutral on individual conceptions of the good life, respecting pluralism and individual autonomy.\n",
       "\n",
       "In essence, the shift in the concept of justice reflects a move from a **teleological, communitarian, and hierarchical worldview** to an **individualistic, egalitarian, and rights-based worldview.** This transformation has profoundly reshaped our understanding of human dignity, societal organization, and the very purpose of governance."
      ],
      "text/plain": [
       "<IPython.core.display.Markdown object>"
      ]
     },
     "metadata": {},
     "output_type": "display_data"
    }
   ],
   "source": [
    "gemini = OpenAI(api_key=google_api_key, base_url=\"https://generativelanguage.googleapis.com/v1beta/openai/\")\n",
    "model_name = \"gemini-2.5-flash\"\n",
    "\n",
    "response = gemini.chat.completions.create(model=model_name, messages=messages)\n",
    "answer = response.choices[0].message.content\n",
    "\n",
    "display(Markdown(answer))\n",
    "competitors.append(model_name)\n",
    "answers.append(answer)"
   ]
  },
  {
   "cell_type": "code",
   "execution_count": 11,
   "metadata": {},
   "outputs": [],
   "source": [
    "# deepseek = OpenAI(api_key=deepseek_api_key, base_url=\"https://api.deepseek.com/v1\")\n",
    "# model_name = \"deepseek-chat\"\n",
    "\n",
    "# response = deepseek.chat.completions.create(model=model_name, messages=messages)\n",
    "# answer = response.choices[0].message.content\n",
    "\n",
    "# display(Markdown(answer))\n",
    "# competitors.append(model_name)\n",
    "# answers.append(answer)"
   ]
  },
  {
   "cell_type": "code",
   "execution_count": 12,
   "metadata": {},
   "outputs": [],
   "source": [
    "# groq = OpenAI(api_key=groq_api_key, base_url=\"https://api.groq.com/openai/v1\")\n",
    "# model_name = \"llama-3.3-70b-versatile\"\n",
    "\n",
    "# response = groq.chat.completions.create(model=model_name, messages=messages)\n",
    "# answer = response.choices[0].message.content\n",
    "\n",
    "# display(Markdown(answer))\n",
    "# competitors.append(model_name)\n",
    "# answers.append(answer)\n"
   ]
  },
  {
   "cell_type": "markdown",
   "metadata": {},
   "source": [
    "## For the next cell, we will use Ollama\n",
    "\n",
    "Ollama runs a local web service that gives an OpenAI compatible endpoint,  \n",
    "and runs models locally using high performance C++ code.\n",
    "\n",
    "If you don't have Ollama, install it here by visiting https://ollama.com then pressing Download and following the instructions.\n",
    "\n",
    "After it's installed, you should be able to visit here: http://localhost:11434 and see the message \"Ollama is running\"\n",
    "\n",
    "You might need to restart Cursor (and maybe reboot). Then open a Terminal (control+\\`) and run `ollama serve`\n",
    "\n",
    "Useful Ollama commands (run these in the terminal, or with an exclamation mark in this notebook):\n",
    "\n",
    "`ollama pull <model_name>` downloads a model locally  \n",
    "`ollama ls` lists all the models you've downloaded  \n",
    "`ollama rm <model_name>` deletes the specified model from your downloads"
   ]
  },
  {
   "cell_type": "markdown",
   "metadata": {},
   "source": [
    "<table style=\"margin: 0; text-align: left; width:100%\">\n",
    "    <tr>\n",
    "        <td style=\"width: 150px; height: 150px; vertical-align: middle;\">\n",
    "            <img src=\"../assets/stop.png\" width=\"150\" height=\"150\" style=\"display: block;\" />\n",
    "        </td>\n",
    "        <td>\n",
    "            <h2 style=\"color:#ff7800;\">Super important - ignore me at your peril!</h2>\n",
    "            <span style=\"color:#ff7800;\">The model called <b>llama3.3</b> is FAR too large for home computers - it's not intended for personal computing and will consume all your resources! Stick with the nicely sized <b>llama3.2</b> or <b>llama3.2:1b</b> and if you want larger, try llama3.1 or smaller variants of Qwen, Gemma, Phi or DeepSeek. See the <A href=\"https://ollama.com/models\">the Ollama models page</a> for a full list of models and sizes.\n",
    "            </span>\n",
    "        </td>\n",
    "    </tr>\n",
    "</table>"
   ]
  },
  {
   "cell_type": "code",
   "execution_count": 13,
   "metadata": {},
   "outputs": [],
   "source": [
    "# !ollama pull llama3.2"
   ]
  },
  {
   "cell_type": "code",
   "execution_count": 14,
   "metadata": {},
   "outputs": [],
   "source": [
    "# ollama = OpenAI(base_url='http://localhost:11434/v1', api_key='ollama')\n",
    "# model_name = \"llama3.2\"\n",
    "\n",
    "# response = ollama.chat.completions.create(model=model_name, messages=messages)\n",
    "# answer = response.choices[0].message.content\n",
    "\n",
    "# display(Markdown(answer))\n",
    "# competitors.append(model_name)\n",
    "# answers.append(answer)"
   ]
  },
  {
   "cell_type": "code",
   "execution_count": 15,
   "metadata": {},
   "outputs": [
    {
     "name": "stdout",
     "output_type": "stream",
     "text": [
      "['llama3.2', 'gemini-2.5-flash']\n",
      "['The concept of justice has indeed undergone significant transformations across different historical and cultural contexts. In ancient Greco-Roman societies, justice was closely tied to the idea of \"dikes,\" or duty, which emphasized personal responsibility and social hierarchy. Here\\'s a breakdown of the differences between the ancient and modern iterations of justice:\\n\\n**Ancient Greco-Roman Context (5th century BCE - 5th century CE)**\\n\\nIn this context, justice referred to the concept of balance and proportionality between individuals, as well as between the individual and society. The Greek philosopher Aristotle\\'s Nicomachean Ethics provides a valuable insight into the understanding of justice during this period. According to Aristotle, justice is achieved when each person fulfills their specific role in the social hierarchy.\\n\\nThe Roman notion of jus (law) was primarily focused on maintaining order, discipline, and authority within the state. This understanding of justice prioritized the greater good over individual rights and freedoms. For example, Cicero\\'s ideas on governance and law emphasize the importance of submitting to moral authorities to maintain social harmony.\\n\\n**Modern Liberal Democratic Context**\\n\\nIn liberal democracies, the concept of justice has evolved significantly, with a strong emphasis on human dignity, equality, and individual freedom. The modern understanding of justice is deeply influenced by Enlightenment values such as reason, tolerance, and human rights.\\n\\nJohn Rawls\\' A Theory of Justice (1971) is a seminal work that provides a powerful philosophical framework for modern justice. According to Rawls, the fundamental principle of justice is \"the two principles\" :\\n\\n1. **Each person has equal rights** as a rational being, including free exercise of their capacity for reason and intellect.\\n2. **Difference in social standings** should be based on benefits received from the basic structure (society).\\n\\nThese principles emphasize distributive justice, where resources are allocated to ensure the greatest benefit available to each individual, regardless of social status.\\n\\n**Shifts Reflecting Broader Cultural and Philosophical Changes**\\n\\nSeveral factors have contributed to this transformation in our understanding of justice:\\n\\n1. **From Hierarchical to Egalitarian Societies**: As societies moved from aristocratic models to more egalitarian structures, the need shifted from emphasizing personal roles (ancient Greco-Roman context) to highlighting individual equality and rights (modern liberal democracies).\\n2. **Rise of Human Rights and International Law**: Human rights documents like the Universal Declaration of Human Rights have expanded our understanding of what constitutes justice beyond state boundaries and recognized universal rights and dignity.\\n3. **Globalization, Cosmopolitanism, and Interconnectedness**: The increasing interconnectedness of nations has led to discussions around global justice and shared human values that supersede national frameworks.\\n\\n**Key Takeaways**\\n\\n1. Justice in ancient Greco-Roman contexts was heavily influenced by the concept of social hierarchy and individual roles, whereas modern interpretations prioritize broader equality and universal rights.\\n2. Philosophical shifts towards humanism, tolerance, and the principles of human dignity have led to reevaluations of justice beyond exclusive state interests.\\n3. As we move forward with increasingly diverse populations living under interconnected frameworks, concepts such as global justice, interdependence, and respect for the common good can no longer remain isolated considerations; they integrate within comprehensive schemes guiding policies across individual states and nations at large.\\n\\nOverall, our understanding of justice has evolved from a context-dependent, hierarchical approach to emphasizing individual rights, equal social standing, and shared human dignity on a universal basis.', 'This is indeed a challenging and nuanced question, as it requires delving into foundational philosophical principles, historical context, and the evolution of societal values.\\n\\nThe fundamental difference between the concept of \\'justice\\' in an ancient Greco-Roman context and its modern iteration in liberal democracies lies in its **primary focus and underlying assumptions about human nature, societal structure, and the source of moral authority.**\\n\\n### Fundamental Difference: From Hierarchical Harmony to Egalitarian Rights\\n\\n1.  **Ancient Greco-Roman Context: Justice as Order, Virtue, and Proper Function within a Hierarchy**\\n    *   **Primary Focus:** Justice was predominantly understood as maintaining a **proper order or balance** within the *polis* (Greek city-state) or *res publica* (Roman republic), where each individual or group fulfilled their **assigned function** according to their nature or station. It was often intertwined with **virtue (aretē)** and the pursuit of the **common good** as defined by a specific, often hierarchical, social structure.\\n    *   **Key Tenets:**\\n        *   **Plato (e.g., *Republic*):** Justice is achieved when each part of the soul (reason, spirit, appetite) and each class in the ideal state (guardians, auxiliaries, producers) performs its proper function without interfering with others. It\\'s a **state of internal harmony and external societal balance**, aimed at the overall good of the *polis*. Hierarchy is inherent and just, based on natural aptitude.\\n        *   **Aristotle (e.g., *Nicomachean Ethics*, *Politics*):** Justice is about **proportionality and treating equals equally and unequals unequally** in proportion to their relevant differences (e.g., merit, need, status). He distinguished between distributive justice (fair allocation of resources/honors based on merit) and corrective justice (redressing wrongs). Justice was linked to *eudaimonia* (human flourishing), which for citizens involved participation in the political life of the city. Slavery, for Aristotle, was \"natural\" for those born to it.\\n        *   **Roman Law & Philosophy (e.g., Cicero, Stoicism):** While highly sophisticated in its legal mechanisms (due process, property rights for citizens), Roman justice was still rooted in a deeply stratified society. Natural Law, influenced by Stoicism, introduced the idea of a universal moral order accessible by reason, hinting at a common humanity. However, practically, Roman justice was applied differently based on status (citizen vs. non-citizen, free vs. slave), and focused on maintaining public order, property rights, and the stability of the *imperium*.\\n    *   **Scope of Equality:** Extremely limited. Justice applied primarily to (male) citizens, and even among them, differential treatment based on social standing or merit was often considered just. Slavery, gender inequality, and class distinctions were often viewed as natural or necessary components of a just social order.\\n\\n2.  **Modern Liberal Democracies: Justice as Rights, Fairness, and Universal Equality**\\n    *   **Primary Focus:** Justice is primarily understood as ensuring **individual rights, fundamental fairness, and equal treatment** for *all* individuals, irrespective of their social status, background, or inherent \"worth.\" It is about establishing rules and institutions that protect individual autonomy and ensure equitable access to opportunities and protections under the law.\\n    *   **Key Tenets:**\\n        *   **Individual Rights:** Justice is centered on the protection of inherent, often inalienable, rights (life, liberty, property, freedom of speech, due process) that precede the state. The state\\'s legitimacy often derives from its ability to secure these rights.\\n        *   **Universal Equality:** All human beings are considered fundamentally equal in moral worth and before the law. This doesn\\'t necessarily mean equality of outcome, but rather equality of opportunity, equal protection, and equal consideration.\\n        *   **Rule of Law:** Laws are applied impartially and predictably to everyone, and even the state itself is subject to the law.\\n        *   **Fair Procedures:** Emphasis on due process, transparent legal systems, and fair trials to ensure just outcomes.\\n        *   **Social Justice:** A more recent development within modern justice, which seeks to address systemic inequalities and ensure that all individuals have access to basic needs, opportunities, and a dignified life, often through state intervention.\\n    *   **Scope of Equality:** Theoretically universal. The aim is for justice to apply equally to all persons, transcending traditional categories of class, gender, race, or religion.\\n\\n### How this Shift Reflects Broader Cultural and Philosophical Changes:\\n\\nThis profound shift in the understanding of justice reflects fundamental changes in Western thought:\\n\\n1.  **Understanding of Human Flourishing (Eudaimonia vs. Self-Actualization):**\\n    *   **Ancient:** Human flourishing (*eudaimonia*) was often conceived as living a virtuous life in accordance with one\\'s rational nature, fulfilling one\\'s civic duties, and contributing to the common good of the *polis*. For many, this was tied to a specific communal identity and function. The state had a strong moral and formative role, guiding citizens towards virtue.\\n    *   **Modern:** Human flourishing is largely understood as individual self-actualization, the pursuit of one\\'s own conception of \"the good life,\" and the realization of one\\'s potential, often defined by personal choice and autonomy. The state\\'s role shifts from moral tutor to rights-protector and facilitator, aiming to create a framework within which diverse individuals can pursue their own forms of flourishing, rather than dictating a singular virtuous path.\\n\\n2.  **Understanding of Equality:**\\n    *   **Ancient:** Equality was **proportional and stratified**. It was considered just to treat unequals unequally. A slave was not equal to a citizen; a woman was not equal to a man; a commoner was not equal to an aristocrat. Justice maintained these distinctions.\\n    *   **Modern:** Equality is **universal and fundamental**. Influenced by Enlightenment ideals, Christian theology (all souls equal before God), and later human rights movements, the idea emerged that all humans possess inherent moral worth, independent of their social status, gender, race, or abilities. This shift demanded that justice apply equally to all, challenging inherent hierarchies as inherently unjust. This led to movements for abolition, women\\'s suffrage, civil rights, and LGBTQ+ rights, all premised on an expanding understanding of who counts as \"equal.\"\\n\\n3.  **Relationship between Individuals and the State:**\\n    *   **Ancient:** The individual was largely **subsumed by the community (polis/res publica)**. One\\'s identity, purpose, and even moral standing were often derived from one\\'s role and participation within the collective. The state was seen as the primary vehicle for achieving the good life, and individual freedom was often understood as the freedom to participate in the political life of the community. Duty to the state was paramount.\\n    *   **Modern:** The **individual is prioritized and seen as possessing inherent rights that precede the state**. The state\\'s legitimacy derives from the consent of the governed and its primary purpose is to protect individual liberties and facilitate their well-being. The relationship is often conceived as a social contract, where the individual grants the state power in exchange for the protection of their rights and the maintenance of order. The state is expected to be largely neutral on individual conceptions of the good life, respecting pluralism and individual autonomy.\\n\\nIn essence, the shift in the concept of justice reflects a move from a **teleological, communitarian, and hierarchical worldview** to an **individualistic, egalitarian, and rights-based worldview.** This transformation has profoundly reshaped our understanding of human dignity, societal organization, and the very purpose of governance.']\n"
     ]
    }
   ],
   "source": [
    "# So where are we?\n",
    "\n",
    "print(competitors)\n",
    "print(answers)"
   ]
  },
  {
   "cell_type": "code",
   "execution_count": 16,
   "metadata": {},
   "outputs": [
    {
     "name": "stdout",
     "output_type": "stream",
     "text": [
      "Competitor: llama3.2\n",
      "\n",
      "The concept of justice has indeed undergone significant transformations across different historical and cultural contexts. In ancient Greco-Roman societies, justice was closely tied to the idea of \"dikes,\" or duty, which emphasized personal responsibility and social hierarchy. Here's a breakdown of the differences between the ancient and modern iterations of justice:\n",
      "\n",
      "**Ancient Greco-Roman Context (5th century BCE - 5th century CE)**\n",
      "\n",
      "In this context, justice referred to the concept of balance and proportionality between individuals, as well as between the individual and society. The Greek philosopher Aristotle's Nicomachean Ethics provides a valuable insight into the understanding of justice during this period. According to Aristotle, justice is achieved when each person fulfills their specific role in the social hierarchy.\n",
      "\n",
      "The Roman notion of jus (law) was primarily focused on maintaining order, discipline, and authority within the state. This understanding of justice prioritized the greater good over individual rights and freedoms. For example, Cicero's ideas on governance and law emphasize the importance of submitting to moral authorities to maintain social harmony.\n",
      "\n",
      "**Modern Liberal Democratic Context**\n",
      "\n",
      "In liberal democracies, the concept of justice has evolved significantly, with a strong emphasis on human dignity, equality, and individual freedom. The modern understanding of justice is deeply influenced by Enlightenment values such as reason, tolerance, and human rights.\n",
      "\n",
      "John Rawls' A Theory of Justice (1971) is a seminal work that provides a powerful philosophical framework for modern justice. According to Rawls, the fundamental principle of justice is \"the two principles\" :\n",
      "\n",
      "1. **Each person has equal rights** as a rational being, including free exercise of their capacity for reason and intellect.\n",
      "2. **Difference in social standings** should be based on benefits received from the basic structure (society).\n",
      "\n",
      "These principles emphasize distributive justice, where resources are allocated to ensure the greatest benefit available to each individual, regardless of social status.\n",
      "\n",
      "**Shifts Reflecting Broader Cultural and Philosophical Changes**\n",
      "\n",
      "Several factors have contributed to this transformation in our understanding of justice:\n",
      "\n",
      "1. **From Hierarchical to Egalitarian Societies**: As societies moved from aristocratic models to more egalitarian structures, the need shifted from emphasizing personal roles (ancient Greco-Roman context) to highlighting individual equality and rights (modern liberal democracies).\n",
      "2. **Rise of Human Rights and International Law**: Human rights documents like the Universal Declaration of Human Rights have expanded our understanding of what constitutes justice beyond state boundaries and recognized universal rights and dignity.\n",
      "3. **Globalization, Cosmopolitanism, and Interconnectedness**: The increasing interconnectedness of nations has led to discussions around global justice and shared human values that supersede national frameworks.\n",
      "\n",
      "**Key Takeaways**\n",
      "\n",
      "1. Justice in ancient Greco-Roman contexts was heavily influenced by the concept of social hierarchy and individual roles, whereas modern interpretations prioritize broader equality and universal rights.\n",
      "2. Philosophical shifts towards humanism, tolerance, and the principles of human dignity have led to reevaluations of justice beyond exclusive state interests.\n",
      "3. As we move forward with increasingly diverse populations living under interconnected frameworks, concepts such as global justice, interdependence, and respect for the common good can no longer remain isolated considerations; they integrate within comprehensive schemes guiding policies across individual states and nations at large.\n",
      "\n",
      "Overall, our understanding of justice has evolved from a context-dependent, hierarchical approach to emphasizing individual rights, equal social standing, and shared human dignity on a universal basis.\n",
      "Competitor: gemini-2.5-flash\n",
      "\n",
      "This is indeed a challenging and nuanced question, as it requires delving into foundational philosophical principles, historical context, and the evolution of societal values.\n",
      "\n",
      "The fundamental difference between the concept of 'justice' in an ancient Greco-Roman context and its modern iteration in liberal democracies lies in its **primary focus and underlying assumptions about human nature, societal structure, and the source of moral authority.**\n",
      "\n",
      "### Fundamental Difference: From Hierarchical Harmony to Egalitarian Rights\n",
      "\n",
      "1.  **Ancient Greco-Roman Context: Justice as Order, Virtue, and Proper Function within a Hierarchy**\n",
      "    *   **Primary Focus:** Justice was predominantly understood as maintaining a **proper order or balance** within the *polis* (Greek city-state) or *res publica* (Roman republic), where each individual or group fulfilled their **assigned function** according to their nature or station. It was often intertwined with **virtue (aretē)** and the pursuit of the **common good** as defined by a specific, often hierarchical, social structure.\n",
      "    *   **Key Tenets:**\n",
      "        *   **Plato (e.g., *Republic*):** Justice is achieved when each part of the soul (reason, spirit, appetite) and each class in the ideal state (guardians, auxiliaries, producers) performs its proper function without interfering with others. It's a **state of internal harmony and external societal balance**, aimed at the overall good of the *polis*. Hierarchy is inherent and just, based on natural aptitude.\n",
      "        *   **Aristotle (e.g., *Nicomachean Ethics*, *Politics*):** Justice is about **proportionality and treating equals equally and unequals unequally** in proportion to their relevant differences (e.g., merit, need, status). He distinguished between distributive justice (fair allocation of resources/honors based on merit) and corrective justice (redressing wrongs). Justice was linked to *eudaimonia* (human flourishing), which for citizens involved participation in the political life of the city. Slavery, for Aristotle, was \"natural\" for those born to it.\n",
      "        *   **Roman Law & Philosophy (e.g., Cicero, Stoicism):** While highly sophisticated in its legal mechanisms (due process, property rights for citizens), Roman justice was still rooted in a deeply stratified society. Natural Law, influenced by Stoicism, introduced the idea of a universal moral order accessible by reason, hinting at a common humanity. However, practically, Roman justice was applied differently based on status (citizen vs. non-citizen, free vs. slave), and focused on maintaining public order, property rights, and the stability of the *imperium*.\n",
      "    *   **Scope of Equality:** Extremely limited. Justice applied primarily to (male) citizens, and even among them, differential treatment based on social standing or merit was often considered just. Slavery, gender inequality, and class distinctions were often viewed as natural or necessary components of a just social order.\n",
      "\n",
      "2.  **Modern Liberal Democracies: Justice as Rights, Fairness, and Universal Equality**\n",
      "    *   **Primary Focus:** Justice is primarily understood as ensuring **individual rights, fundamental fairness, and equal treatment** for *all* individuals, irrespective of their social status, background, or inherent \"worth.\" It is about establishing rules and institutions that protect individual autonomy and ensure equitable access to opportunities and protections under the law.\n",
      "    *   **Key Tenets:**\n",
      "        *   **Individual Rights:** Justice is centered on the protection of inherent, often inalienable, rights (life, liberty, property, freedom of speech, due process) that precede the state. The state's legitimacy often derives from its ability to secure these rights.\n",
      "        *   **Universal Equality:** All human beings are considered fundamentally equal in moral worth and before the law. This doesn't necessarily mean equality of outcome, but rather equality of opportunity, equal protection, and equal consideration.\n",
      "        *   **Rule of Law:** Laws are applied impartially and predictably to everyone, and even the state itself is subject to the law.\n",
      "        *   **Fair Procedures:** Emphasis on due process, transparent legal systems, and fair trials to ensure just outcomes.\n",
      "        *   **Social Justice:** A more recent development within modern justice, which seeks to address systemic inequalities and ensure that all individuals have access to basic needs, opportunities, and a dignified life, often through state intervention.\n",
      "    *   **Scope of Equality:** Theoretically universal. The aim is for justice to apply equally to all persons, transcending traditional categories of class, gender, race, or religion.\n",
      "\n",
      "### How this Shift Reflects Broader Cultural and Philosophical Changes:\n",
      "\n",
      "This profound shift in the understanding of justice reflects fundamental changes in Western thought:\n",
      "\n",
      "1.  **Understanding of Human Flourishing (Eudaimonia vs. Self-Actualization):**\n",
      "    *   **Ancient:** Human flourishing (*eudaimonia*) was often conceived as living a virtuous life in accordance with one's rational nature, fulfilling one's civic duties, and contributing to the common good of the *polis*. For many, this was tied to a specific communal identity and function. The state had a strong moral and formative role, guiding citizens towards virtue.\n",
      "    *   **Modern:** Human flourishing is largely understood as individual self-actualization, the pursuit of one's own conception of \"the good life,\" and the realization of one's potential, often defined by personal choice and autonomy. The state's role shifts from moral tutor to rights-protector and facilitator, aiming to create a framework within which diverse individuals can pursue their own forms of flourishing, rather than dictating a singular virtuous path.\n",
      "\n",
      "2.  **Understanding of Equality:**\n",
      "    *   **Ancient:** Equality was **proportional and stratified**. It was considered just to treat unequals unequally. A slave was not equal to a citizen; a woman was not equal to a man; a commoner was not equal to an aristocrat. Justice maintained these distinctions.\n",
      "    *   **Modern:** Equality is **universal and fundamental**. Influenced by Enlightenment ideals, Christian theology (all souls equal before God), and later human rights movements, the idea emerged that all humans possess inherent moral worth, independent of their social status, gender, race, or abilities. This shift demanded that justice apply equally to all, challenging inherent hierarchies as inherently unjust. This led to movements for abolition, women's suffrage, civil rights, and LGBTQ+ rights, all premised on an expanding understanding of who counts as \"equal.\"\n",
      "\n",
      "3.  **Relationship between Individuals and the State:**\n",
      "    *   **Ancient:** The individual was largely **subsumed by the community (polis/res publica)**. One's identity, purpose, and even moral standing were often derived from one's role and participation within the collective. The state was seen as the primary vehicle for achieving the good life, and individual freedom was often understood as the freedom to participate in the political life of the community. Duty to the state was paramount.\n",
      "    *   **Modern:** The **individual is prioritized and seen as possessing inherent rights that precede the state**. The state's legitimacy derives from the consent of the governed and its primary purpose is to protect individual liberties and facilitate their well-being. The relationship is often conceived as a social contract, where the individual grants the state power in exchange for the protection of their rights and the maintenance of order. The state is expected to be largely neutral on individual conceptions of the good life, respecting pluralism and individual autonomy.\n",
      "\n",
      "In essence, the shift in the concept of justice reflects a move from a **teleological, communitarian, and hierarchical worldview** to an **individualistic, egalitarian, and rights-based worldview.** This transformation has profoundly reshaped our understanding of human dignity, societal organization, and the very purpose of governance.\n"
     ]
    }
   ],
   "source": [
    "# It's nice to know how to use \"zip\"\n",
    "for competitor, answer in zip(competitors, answers):\n",
    "    print(f\"Competitor: {competitor}\\n\\n{answer}\")\n"
   ]
  },
  {
   "cell_type": "code",
   "execution_count": 17,
   "metadata": {},
   "outputs": [],
   "source": [
    "# Let's bring this together - note the use of \"enumerate\"\n",
    "\n",
    "together = \"\"\n",
    "for index, answer in enumerate(answers):\n",
    "    together += f\"# Response from competitor {index+1}\\n\\n\"\n",
    "    together += answer + \"\\n\\n\""
   ]
  },
  {
   "cell_type": "code",
   "execution_count": 18,
   "metadata": {},
   "outputs": [
    {
     "name": "stdout",
     "output_type": "stream",
     "text": [
      "# Response from competitor 1\n",
      "\n",
      "The concept of justice has indeed undergone significant transformations across different historical and cultural contexts. In ancient Greco-Roman societies, justice was closely tied to the idea of \"dikes,\" or duty, which emphasized personal responsibility and social hierarchy. Here's a breakdown of the differences between the ancient and modern iterations of justice:\n",
      "\n",
      "**Ancient Greco-Roman Context (5th century BCE - 5th century CE)**\n",
      "\n",
      "In this context, justice referred to the concept of balance and proportionality between individuals, as well as between the individual and society. The Greek philosopher Aristotle's Nicomachean Ethics provides a valuable insight into the understanding of justice during this period. According to Aristotle, justice is achieved when each person fulfills their specific role in the social hierarchy.\n",
      "\n",
      "The Roman notion of jus (law) was primarily focused on maintaining order, discipline, and authority within the state. This understanding of justice prioritized the greater good over individual rights and freedoms. For example, Cicero's ideas on governance and law emphasize the importance of submitting to moral authorities to maintain social harmony.\n",
      "\n",
      "**Modern Liberal Democratic Context**\n",
      "\n",
      "In liberal democracies, the concept of justice has evolved significantly, with a strong emphasis on human dignity, equality, and individual freedom. The modern understanding of justice is deeply influenced by Enlightenment values such as reason, tolerance, and human rights.\n",
      "\n",
      "John Rawls' A Theory of Justice (1971) is a seminal work that provides a powerful philosophical framework for modern justice. According to Rawls, the fundamental principle of justice is \"the two principles\" :\n",
      "\n",
      "1. **Each person has equal rights** as a rational being, including free exercise of their capacity for reason and intellect.\n",
      "2. **Difference in social standings** should be based on benefits received from the basic structure (society).\n",
      "\n",
      "These principles emphasize distributive justice, where resources are allocated to ensure the greatest benefit available to each individual, regardless of social status.\n",
      "\n",
      "**Shifts Reflecting Broader Cultural and Philosophical Changes**\n",
      "\n",
      "Several factors have contributed to this transformation in our understanding of justice:\n",
      "\n",
      "1. **From Hierarchical to Egalitarian Societies**: As societies moved from aristocratic models to more egalitarian structures, the need shifted from emphasizing personal roles (ancient Greco-Roman context) to highlighting individual equality and rights (modern liberal democracies).\n",
      "2. **Rise of Human Rights and International Law**: Human rights documents like the Universal Declaration of Human Rights have expanded our understanding of what constitutes justice beyond state boundaries and recognized universal rights and dignity.\n",
      "3. **Globalization, Cosmopolitanism, and Interconnectedness**: The increasing interconnectedness of nations has led to discussions around global justice and shared human values that supersede national frameworks.\n",
      "\n",
      "**Key Takeaways**\n",
      "\n",
      "1. Justice in ancient Greco-Roman contexts was heavily influenced by the concept of social hierarchy and individual roles, whereas modern interpretations prioritize broader equality and universal rights.\n",
      "2. Philosophical shifts towards humanism, tolerance, and the principles of human dignity have led to reevaluations of justice beyond exclusive state interests.\n",
      "3. As we move forward with increasingly diverse populations living under interconnected frameworks, concepts such as global justice, interdependence, and respect for the common good can no longer remain isolated considerations; they integrate within comprehensive schemes guiding policies across individual states and nations at large.\n",
      "\n",
      "Overall, our understanding of justice has evolved from a context-dependent, hierarchical approach to emphasizing individual rights, equal social standing, and shared human dignity on a universal basis.\n",
      "\n",
      "# Response from competitor 2\n",
      "\n",
      "This is indeed a challenging and nuanced question, as it requires delving into foundational philosophical principles, historical context, and the evolution of societal values.\n",
      "\n",
      "The fundamental difference between the concept of 'justice' in an ancient Greco-Roman context and its modern iteration in liberal democracies lies in its **primary focus and underlying assumptions about human nature, societal structure, and the source of moral authority.**\n",
      "\n",
      "### Fundamental Difference: From Hierarchical Harmony to Egalitarian Rights\n",
      "\n",
      "1.  **Ancient Greco-Roman Context: Justice as Order, Virtue, and Proper Function within a Hierarchy**\n",
      "    *   **Primary Focus:** Justice was predominantly understood as maintaining a **proper order or balance** within the *polis* (Greek city-state) or *res publica* (Roman republic), where each individual or group fulfilled their **assigned function** according to their nature or station. It was often intertwined with **virtue (aretē)** and the pursuit of the **common good** as defined by a specific, often hierarchical, social structure.\n",
      "    *   **Key Tenets:**\n",
      "        *   **Plato (e.g., *Republic*):** Justice is achieved when each part of the soul (reason, spirit, appetite) and each class in the ideal state (guardians, auxiliaries, producers) performs its proper function without interfering with others. It's a **state of internal harmony and external societal balance**, aimed at the overall good of the *polis*. Hierarchy is inherent and just, based on natural aptitude.\n",
      "        *   **Aristotle (e.g., *Nicomachean Ethics*, *Politics*):** Justice is about **proportionality and treating equals equally and unequals unequally** in proportion to their relevant differences (e.g., merit, need, status). He distinguished between distributive justice (fair allocation of resources/honors based on merit) and corrective justice (redressing wrongs). Justice was linked to *eudaimonia* (human flourishing), which for citizens involved participation in the political life of the city. Slavery, for Aristotle, was \"natural\" for those born to it.\n",
      "        *   **Roman Law & Philosophy (e.g., Cicero, Stoicism):** While highly sophisticated in its legal mechanisms (due process, property rights for citizens), Roman justice was still rooted in a deeply stratified society. Natural Law, influenced by Stoicism, introduced the idea of a universal moral order accessible by reason, hinting at a common humanity. However, practically, Roman justice was applied differently based on status (citizen vs. non-citizen, free vs. slave), and focused on maintaining public order, property rights, and the stability of the *imperium*.\n",
      "    *   **Scope of Equality:** Extremely limited. Justice applied primarily to (male) citizens, and even among them, differential treatment based on social standing or merit was often considered just. Slavery, gender inequality, and class distinctions were often viewed as natural or necessary components of a just social order.\n",
      "\n",
      "2.  **Modern Liberal Democracies: Justice as Rights, Fairness, and Universal Equality**\n",
      "    *   **Primary Focus:** Justice is primarily understood as ensuring **individual rights, fundamental fairness, and equal treatment** for *all* individuals, irrespective of their social status, background, or inherent \"worth.\" It is about establishing rules and institutions that protect individual autonomy and ensure equitable access to opportunities and protections under the law.\n",
      "    *   **Key Tenets:**\n",
      "        *   **Individual Rights:** Justice is centered on the protection of inherent, often inalienable, rights (life, liberty, property, freedom of speech, due process) that precede the state. The state's legitimacy often derives from its ability to secure these rights.\n",
      "        *   **Universal Equality:** All human beings are considered fundamentally equal in moral worth and before the law. This doesn't necessarily mean equality of outcome, but rather equality of opportunity, equal protection, and equal consideration.\n",
      "        *   **Rule of Law:** Laws are applied impartially and predictably to everyone, and even the state itself is subject to the law.\n",
      "        *   **Fair Procedures:** Emphasis on due process, transparent legal systems, and fair trials to ensure just outcomes.\n",
      "        *   **Social Justice:** A more recent development within modern justice, which seeks to address systemic inequalities and ensure that all individuals have access to basic needs, opportunities, and a dignified life, often through state intervention.\n",
      "    *   **Scope of Equality:** Theoretically universal. The aim is for justice to apply equally to all persons, transcending traditional categories of class, gender, race, or religion.\n",
      "\n",
      "### How this Shift Reflects Broader Cultural and Philosophical Changes:\n",
      "\n",
      "This profound shift in the understanding of justice reflects fundamental changes in Western thought:\n",
      "\n",
      "1.  **Understanding of Human Flourishing (Eudaimonia vs. Self-Actualization):**\n",
      "    *   **Ancient:** Human flourishing (*eudaimonia*) was often conceived as living a virtuous life in accordance with one's rational nature, fulfilling one's civic duties, and contributing to the common good of the *polis*. For many, this was tied to a specific communal identity and function. The state had a strong moral and formative role, guiding citizens towards virtue.\n",
      "    *   **Modern:** Human flourishing is largely understood as individual self-actualization, the pursuit of one's own conception of \"the good life,\" and the realization of one's potential, often defined by personal choice and autonomy. The state's role shifts from moral tutor to rights-protector and facilitator, aiming to create a framework within which diverse individuals can pursue their own forms of flourishing, rather than dictating a singular virtuous path.\n",
      "\n",
      "2.  **Understanding of Equality:**\n",
      "    *   **Ancient:** Equality was **proportional and stratified**. It was considered just to treat unequals unequally. A slave was not equal to a citizen; a woman was not equal to a man; a commoner was not equal to an aristocrat. Justice maintained these distinctions.\n",
      "    *   **Modern:** Equality is **universal and fundamental**. Influenced by Enlightenment ideals, Christian theology (all souls equal before God), and later human rights movements, the idea emerged that all humans possess inherent moral worth, independent of their social status, gender, race, or abilities. This shift demanded that justice apply equally to all, challenging inherent hierarchies as inherently unjust. This led to movements for abolition, women's suffrage, civil rights, and LGBTQ+ rights, all premised on an expanding understanding of who counts as \"equal.\"\n",
      "\n",
      "3.  **Relationship between Individuals and the State:**\n",
      "    *   **Ancient:** The individual was largely **subsumed by the community (polis/res publica)**. One's identity, purpose, and even moral standing were often derived from one's role and participation within the collective. The state was seen as the primary vehicle for achieving the good life, and individual freedom was often understood as the freedom to participate in the political life of the community. Duty to the state was paramount.\n",
      "    *   **Modern:** The **individual is prioritized and seen as possessing inherent rights that precede the state**. The state's legitimacy derives from the consent of the governed and its primary purpose is to protect individual liberties and facilitate their well-being. The relationship is often conceived as a social contract, where the individual grants the state power in exchange for the protection of their rights and the maintenance of order. The state is expected to be largely neutral on individual conceptions of the good life, respecting pluralism and individual autonomy.\n",
      "\n",
      "In essence, the shift in the concept of justice reflects a move from a **teleological, communitarian, and hierarchical worldview** to an **individualistic, egalitarian, and rights-based worldview.** This transformation has profoundly reshaped our understanding of human dignity, societal organization, and the very purpose of governance.\n",
      "\n",
      "\n"
     ]
    }
   ],
   "source": [
    "print(together)"
   ]
  },
  {
   "cell_type": "code",
   "execution_count": 19,
   "metadata": {},
   "outputs": [],
   "source": [
    "judge = f\"\"\"You are judging a competition between {len(competitors)} competitors.\n",
    "Each model has been given this question:\n",
    "\n",
    "{question}\n",
    "\n",
    "Your job is to evaluate each response for clarity and strength of argument, and rank them in order of best to worst.\n",
    "Respond with JSON, and only JSON, with the following format:\n",
    "{{\"results\": [\"best competitor number\", \"second best competitor number\", \"third best competitor number\", ...]}}\n",
    "\n",
    "Here are the responses from each competitor:\n",
    "\n",
    "{together}\n",
    "\n",
    "Now respond with the JSON with the ranked order of the competitors, nothing else. Do not include markdown formatting or code blocks.\"\"\"\n"
   ]
  },
  {
   "cell_type": "code",
   "execution_count": 20,
   "metadata": {},
   "outputs": [
    {
     "name": "stdout",
     "output_type": "stream",
     "text": [
      "You are judging a competition between 2 competitors.\n",
      "Each model has been given this question:\n",
      "\n",
      "Here's a challenging, nuanced question:\n",
      "\n",
      "\"What is the fundamental difference between the concept of 'justice' as understood in an ancient Greco-Roman context and its modern iteration in liberal democracies, and how does this shift reflect broader cultural and philosophical changes in our understanding of human flourishing, equality, and the relationship between individuals and the state?\"\n",
      "\n",
      "Your job is to evaluate each response for clarity and strength of argument, and rank them in order of best to worst.\n",
      "Respond with JSON, and only JSON, with the following format:\n",
      "{\"results\": [\"best competitor number\", \"second best competitor number\", \"third best competitor number\", ...]}\n",
      "\n",
      "Here are the responses from each competitor:\n",
      "\n",
      "# Response from competitor 1\n",
      "\n",
      "The concept of justice has indeed undergone significant transformations across different historical and cultural contexts. In ancient Greco-Roman societies, justice was closely tied to the idea of \"dikes,\" or duty, which emphasized personal responsibility and social hierarchy. Here's a breakdown of the differences between the ancient and modern iterations of justice:\n",
      "\n",
      "**Ancient Greco-Roman Context (5th century BCE - 5th century CE)**\n",
      "\n",
      "In this context, justice referred to the concept of balance and proportionality between individuals, as well as between the individual and society. The Greek philosopher Aristotle's Nicomachean Ethics provides a valuable insight into the understanding of justice during this period. According to Aristotle, justice is achieved when each person fulfills their specific role in the social hierarchy.\n",
      "\n",
      "The Roman notion of jus (law) was primarily focused on maintaining order, discipline, and authority within the state. This understanding of justice prioritized the greater good over individual rights and freedoms. For example, Cicero's ideas on governance and law emphasize the importance of submitting to moral authorities to maintain social harmony.\n",
      "\n",
      "**Modern Liberal Democratic Context**\n",
      "\n",
      "In liberal democracies, the concept of justice has evolved significantly, with a strong emphasis on human dignity, equality, and individual freedom. The modern understanding of justice is deeply influenced by Enlightenment values such as reason, tolerance, and human rights.\n",
      "\n",
      "John Rawls' A Theory of Justice (1971) is a seminal work that provides a powerful philosophical framework for modern justice. According to Rawls, the fundamental principle of justice is \"the two principles\" :\n",
      "\n",
      "1. **Each person has equal rights** as a rational being, including free exercise of their capacity for reason and intellect.\n",
      "2. **Difference in social standings** should be based on benefits received from the basic structure (society).\n",
      "\n",
      "These principles emphasize distributive justice, where resources are allocated to ensure the greatest benefit available to each individual, regardless of social status.\n",
      "\n",
      "**Shifts Reflecting Broader Cultural and Philosophical Changes**\n",
      "\n",
      "Several factors have contributed to this transformation in our understanding of justice:\n",
      "\n",
      "1. **From Hierarchical to Egalitarian Societies**: As societies moved from aristocratic models to more egalitarian structures, the need shifted from emphasizing personal roles (ancient Greco-Roman context) to highlighting individual equality and rights (modern liberal democracies).\n",
      "2. **Rise of Human Rights and International Law**: Human rights documents like the Universal Declaration of Human Rights have expanded our understanding of what constitutes justice beyond state boundaries and recognized universal rights and dignity.\n",
      "3. **Globalization, Cosmopolitanism, and Interconnectedness**: The increasing interconnectedness of nations has led to discussions around global justice and shared human values that supersede national frameworks.\n",
      "\n",
      "**Key Takeaways**\n",
      "\n",
      "1. Justice in ancient Greco-Roman contexts was heavily influenced by the concept of social hierarchy and individual roles, whereas modern interpretations prioritize broader equality and universal rights.\n",
      "2. Philosophical shifts towards humanism, tolerance, and the principles of human dignity have led to reevaluations of justice beyond exclusive state interests.\n",
      "3. As we move forward with increasingly diverse populations living under interconnected frameworks, concepts such as global justice, interdependence, and respect for the common good can no longer remain isolated considerations; they integrate within comprehensive schemes guiding policies across individual states and nations at large.\n",
      "\n",
      "Overall, our understanding of justice has evolved from a context-dependent, hierarchical approach to emphasizing individual rights, equal social standing, and shared human dignity on a universal basis.\n",
      "\n",
      "# Response from competitor 2\n",
      "\n",
      "This is indeed a challenging and nuanced question, as it requires delving into foundational philosophical principles, historical context, and the evolution of societal values.\n",
      "\n",
      "The fundamental difference between the concept of 'justice' in an ancient Greco-Roman context and its modern iteration in liberal democracies lies in its **primary focus and underlying assumptions about human nature, societal structure, and the source of moral authority.**\n",
      "\n",
      "### Fundamental Difference: From Hierarchical Harmony to Egalitarian Rights\n",
      "\n",
      "1.  **Ancient Greco-Roman Context: Justice as Order, Virtue, and Proper Function within a Hierarchy**\n",
      "    *   **Primary Focus:** Justice was predominantly understood as maintaining a **proper order or balance** within the *polis* (Greek city-state) or *res publica* (Roman republic), where each individual or group fulfilled their **assigned function** according to their nature or station. It was often intertwined with **virtue (aretē)** and the pursuit of the **common good** as defined by a specific, often hierarchical, social structure.\n",
      "    *   **Key Tenets:**\n",
      "        *   **Plato (e.g., *Republic*):** Justice is achieved when each part of the soul (reason, spirit, appetite) and each class in the ideal state (guardians, auxiliaries, producers) performs its proper function without interfering with others. It's a **state of internal harmony and external societal balance**, aimed at the overall good of the *polis*. Hierarchy is inherent and just, based on natural aptitude.\n",
      "        *   **Aristotle (e.g., *Nicomachean Ethics*, *Politics*):** Justice is about **proportionality and treating equals equally and unequals unequally** in proportion to their relevant differences (e.g., merit, need, status). He distinguished between distributive justice (fair allocation of resources/honors based on merit) and corrective justice (redressing wrongs). Justice was linked to *eudaimonia* (human flourishing), which for citizens involved participation in the political life of the city. Slavery, for Aristotle, was \"natural\" for those born to it.\n",
      "        *   **Roman Law & Philosophy (e.g., Cicero, Stoicism):** While highly sophisticated in its legal mechanisms (due process, property rights for citizens), Roman justice was still rooted in a deeply stratified society. Natural Law, influenced by Stoicism, introduced the idea of a universal moral order accessible by reason, hinting at a common humanity. However, practically, Roman justice was applied differently based on status (citizen vs. non-citizen, free vs. slave), and focused on maintaining public order, property rights, and the stability of the *imperium*.\n",
      "    *   **Scope of Equality:** Extremely limited. Justice applied primarily to (male) citizens, and even among them, differential treatment based on social standing or merit was often considered just. Slavery, gender inequality, and class distinctions were often viewed as natural or necessary components of a just social order.\n",
      "\n",
      "2.  **Modern Liberal Democracies: Justice as Rights, Fairness, and Universal Equality**\n",
      "    *   **Primary Focus:** Justice is primarily understood as ensuring **individual rights, fundamental fairness, and equal treatment** for *all* individuals, irrespective of their social status, background, or inherent \"worth.\" It is about establishing rules and institutions that protect individual autonomy and ensure equitable access to opportunities and protections under the law.\n",
      "    *   **Key Tenets:**\n",
      "        *   **Individual Rights:** Justice is centered on the protection of inherent, often inalienable, rights (life, liberty, property, freedom of speech, due process) that precede the state. The state's legitimacy often derives from its ability to secure these rights.\n",
      "        *   **Universal Equality:** All human beings are considered fundamentally equal in moral worth and before the law. This doesn't necessarily mean equality of outcome, but rather equality of opportunity, equal protection, and equal consideration.\n",
      "        *   **Rule of Law:** Laws are applied impartially and predictably to everyone, and even the state itself is subject to the law.\n",
      "        *   **Fair Procedures:** Emphasis on due process, transparent legal systems, and fair trials to ensure just outcomes.\n",
      "        *   **Social Justice:** A more recent development within modern justice, which seeks to address systemic inequalities and ensure that all individuals have access to basic needs, opportunities, and a dignified life, often through state intervention.\n",
      "    *   **Scope of Equality:** Theoretically universal. The aim is for justice to apply equally to all persons, transcending traditional categories of class, gender, race, or religion.\n",
      "\n",
      "### How this Shift Reflects Broader Cultural and Philosophical Changes:\n",
      "\n",
      "This profound shift in the understanding of justice reflects fundamental changes in Western thought:\n",
      "\n",
      "1.  **Understanding of Human Flourishing (Eudaimonia vs. Self-Actualization):**\n",
      "    *   **Ancient:** Human flourishing (*eudaimonia*) was often conceived as living a virtuous life in accordance with one's rational nature, fulfilling one's civic duties, and contributing to the common good of the *polis*. For many, this was tied to a specific communal identity and function. The state had a strong moral and formative role, guiding citizens towards virtue.\n",
      "    *   **Modern:** Human flourishing is largely understood as individual self-actualization, the pursuit of one's own conception of \"the good life,\" and the realization of one's potential, often defined by personal choice and autonomy. The state's role shifts from moral tutor to rights-protector and facilitator, aiming to create a framework within which diverse individuals can pursue their own forms of flourishing, rather than dictating a singular virtuous path.\n",
      "\n",
      "2.  **Understanding of Equality:**\n",
      "    *   **Ancient:** Equality was **proportional and stratified**. It was considered just to treat unequals unequally. A slave was not equal to a citizen; a woman was not equal to a man; a commoner was not equal to an aristocrat. Justice maintained these distinctions.\n",
      "    *   **Modern:** Equality is **universal and fundamental**. Influenced by Enlightenment ideals, Christian theology (all souls equal before God), and later human rights movements, the idea emerged that all humans possess inherent moral worth, independent of their social status, gender, race, or abilities. This shift demanded that justice apply equally to all, challenging inherent hierarchies as inherently unjust. This led to movements for abolition, women's suffrage, civil rights, and LGBTQ+ rights, all premised on an expanding understanding of who counts as \"equal.\"\n",
      "\n",
      "3.  **Relationship between Individuals and the State:**\n",
      "    *   **Ancient:** The individual was largely **subsumed by the community (polis/res publica)**. One's identity, purpose, and even moral standing were often derived from one's role and participation within the collective. The state was seen as the primary vehicle for achieving the good life, and individual freedom was often understood as the freedom to participate in the political life of the community. Duty to the state was paramount.\n",
      "    *   **Modern:** The **individual is prioritized and seen as possessing inherent rights that precede the state**. The state's legitimacy derives from the consent of the governed and its primary purpose is to protect individual liberties and facilitate their well-being. The relationship is often conceived as a social contract, where the individual grants the state power in exchange for the protection of their rights and the maintenance of order. The state is expected to be largely neutral on individual conceptions of the good life, respecting pluralism and individual autonomy.\n",
      "\n",
      "In essence, the shift in the concept of justice reflects a move from a **teleological, communitarian, and hierarchical worldview** to an **individualistic, egalitarian, and rights-based worldview.** This transformation has profoundly reshaped our understanding of human dignity, societal organization, and the very purpose of governance.\n",
      "\n",
      "\n",
      "\n",
      "Now respond with the JSON with the ranked order of the competitors, nothing else. Do not include markdown formatting or code blocks.\n"
     ]
    }
   ],
   "source": [
    "print(judge)"
   ]
  },
  {
   "cell_type": "code",
   "execution_count": 21,
   "metadata": {},
   "outputs": [],
   "source": [
    "judge_messages = [{\"role\": \"user\", \"content\": judge}]"
   ]
  },
  {
   "cell_type": "code",
   "execution_count": 25,
   "metadata": {},
   "outputs": [
    {
     "name": "stdout",
     "output_type": "stream",
     "text": [
      "{\"results\": [\"2\", \"1\"]}\n"
     ]
    }
   ],
   "source": [
    "# Judgement time!\n",
    "\n",
    "ollama = OpenAI(base_url='http://localhost:11434/v1', api_key='ollama')\n",
    "gemini = OpenAI(api_key=google_api_key, base_url=\"https://generativelanguage.googleapis.com/v1beta/openai/\")\n",
    "\n",
    "# response = ollama.chat.completions.create(\n",
    "response = gemini.chat.completions.create(\n",
    "    model = \"gemini-2.5-flash\",\n",
    "    messages=judge_messages,\n",
    ")\n",
    "results = response.choices[0].message.content\n",
    "print(results)\n"
   ]
  },
  {
   "cell_type": "markdown",
   "metadata": {},
   "source": [
    "<table style=\"margin: 0; text-align: left; width:100%\">\n",
    "    <tr>\n",
    "        <td style=\"width: 150px; height: 150px; vertical-align: middle;\">\n",
    "            <img src=\"../assets/exercise.png\" width=\"150\" height=\"150\" style=\"display: block;\" />\n",
    "        </td>\n",
    "        <td>\n",
    "            <h2 style=\"color:#ff7800;\">Exercise</h2>\n",
    "            <span style=\"color:#ff7800;\">Which pattern(s) did this use? Try updating this to add another Agentic design pattern.\n",
    "            </span>\n",
    "        </td>\n",
    "    </tr>\n",
    "</table>"
   ]
  },
  {
   "cell_type": "markdown",
   "metadata": {},
   "source": [
    "<table style=\"margin: 0; text-align: left; width:100%\">\n",
    "    <tr>\n",
    "        <td style=\"width: 150px; height: 150px; vertical-align: middle;\">\n",
    "            <img src=\"../assets/business.png\" width=\"150\" height=\"150\" style=\"display: block;\" />\n",
    "        </td>\n",
    "        <td>\n",
    "            <h2 style=\"color:#00bfff;\">Commercial implications</h2>\n",
    "            <span style=\"color:#00bfff;\">These kinds of patterns - to send a task to multiple models, and evaluate results,\n",
    "            are common where you need to improve the quality of your LLM response. This approach can be universally applied\n",
    "            to business projects where accuracy is critical.\n",
    "            </span>\n",
    "        </td>\n",
    "    </tr>\n",
    "</table>"
   ]
  }
 ],
 "metadata": {
  "kernelspec": {
   "display_name": "agents",
   "language": "python",
   "name": "python3"
  },
  "language_info": {
   "codemirror_mode": {
    "name": "ipython",
    "version": 3
   },
   "file_extension": ".py",
   "mimetype": "text/x-python",
   "name": "python",
   "nbconvert_exporter": "python",
   "pygments_lexer": "ipython3",
   "version": "3.12.11"
  }
 },
 "nbformat": 4,
 "nbformat_minor": 2
}
